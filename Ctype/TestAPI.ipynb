{
 "cells": [
  {
   "cell_type": "code",
   "execution_count": 1,
   "metadata": {},
   "outputs": [],
   "source": [
    "from ctypes import *"
   ]
  },
  {
   "cell_type": "code",
   "execution_count": 9,
   "metadata": {},
   "outputs": [],
   "source": [
    "data_test = c_int(100)"
   ]
  },
  {
   "cell_type": "code",
   "execution_count": 11,
   "metadata": {},
   "outputs": [
    {
     "name": "stdout",
     "output_type": "stream",
     "text": [
      "100\n"
     ]
    }
   ],
   "source": [
    "print (data_test.value)"
   ]
  },
  {
   "cell_type": "code",
   "execution_count": 2,
   "metadata": {},
   "outputs": [],
   "source": [
    "x = CDLL(\"./libtest.so\")\n",
    "x.interface.argtypes = c_int, c_int, c_int, (c_int * 3), c_int\n",
    "x.interface.restype = None\n",
    "p = (c_int*3)()\n",
    "a = c_int(1)\n",
    "b = c_int(2)\n",
    "c = c_int(3)\n",
    "d = c_int(2)"
   ]
  },
  {
   "cell_type": "code",
   "execution_count": 5,
   "metadata": {},
   "outputs": [
    {
     "name": "stdout",
     "output_type": "stream",
     "text": [
      "<CDLL './libtest.so', handle 7ff790687810 at 0x10eca30d0>\n"
     ]
    }
   ],
   "source": [
    "print (x)"
   ]
  },
  {
   "cell_type": "code",
   "execution_count": 6,
   "metadata": {},
   "outputs": [],
   "source": [
    "x.interface(a, b, c, p, d)"
   ]
  },
  {
   "cell_type": "code",
   "execution_count": 8,
   "metadata": {},
   "outputs": [
    {
     "name": "stdout",
     "output_type": "stream",
     "text": [
      "1252330490\n",
      "1457814056\n",
      "966921452\n"
     ]
    }
   ],
   "source": [
    "for i in range(3):\n",
    "    print (p[i])"
   ]
  },
  {
   "cell_type": "code",
   "execution_count": 9,
   "metadata": {},
   "outputs": [],
   "source": [
    "y = CDLL(\"/Users/linbinyang/Desktop/CGBN_matrix/Ctype/TEST/libmath.so\")"
   ]
  },
  {
   "cell_type": "code",
   "execution_count": 10,
   "metadata": {},
   "outputs": [
    {
     "data": {
      "text/plain": [
       "5"
      ]
     },
     "execution_count": 10,
     "metadata": {},
     "output_type": "execute_result"
    }
   ],
   "source": [
    "y.add_int(2,3)"
   ]
  },
  {
   "cell_type": "code",
   "execution_count": 11,
   "metadata": {},
   "outputs": [
    {
     "data": {
      "text/plain": [
       "10.100000381469727"
      ]
     },
     "execution_count": 11,
     "metadata": {},
     "output_type": "execute_result"
    }
   ],
   "source": [
    "y.add_float.restype = c_float\n",
    "y.add_float.argtypes = [c_float, c_float]\n",
    "y.add_float(4.5, 5.6)"
   ]
  },
  {
   "cell_type": "code",
   "execution_count": 12,
   "metadata": {},
   "outputs": [
    {
     "name": "stdout",
     "output_type": "stream",
     "text": [
      "15.0\n"
     ]
    }
   ],
   "source": [
    "y.add_float_ref.restype = c_int\n",
    "a = c_float(12.3)\n",
    "b = c_float(2.7)\n",
    "res = c_float()\n",
    "y.add_float_ref(byref(a), byref(b), byref(res))\n",
    "print (res.value)"
   ]
  },
  {
   "cell_type": "code",
   "execution_count": 13,
   "metadata": {},
   "outputs": [
    {
     "name": "stdout",
     "output_type": "stream",
     "text": [
      "18.0\n",
      "c_float(18.0)\n"
     ]
    }
   ],
   "source": [
    "a = c_float(14.3)\n",
    "b = c_float(3.7)\n",
    "res = c_float()\n",
    "i = pointer(a)\n",
    "j = pointer(b)\n",
    "k = pointer(res)\n",
    "y.add_float_ref(i, j, k)\n",
    "print (res.value)\n",
    "print (k.contents)"
   ]
  },
  {
   "cell_type": "code",
   "execution_count": 15,
   "metadata": {},
   "outputs": [],
   "source": [
    "a=(c_int * 3)(-1, 2, 5) \n",
    "b=(c_int * 3)(-1, 3, 3)\n",
    "res=(c_int * 3)()\n",
    "n=c_int (3)"
   ]
  },
  {
   "cell_type": "code",
   "execution_count": 16,
   "metadata": {},
   "outputs": [
    {
     "name": "stdout",
     "output_type": "stream",
     "text": [
      "-2\n",
      "5\n",
      "8\n"
     ]
    }
   ],
   "source": [
    "y.add_int_array.restype = c_int\n",
    "y.add_int_array(a, b, res, n)\n",
    "for i in range(n.value):\n",
    "    print (res[i])"
   ]
  },
  {
   "cell_type": "code",
   "execution_count": 17,
   "metadata": {},
   "outputs": [],
   "source": [
    "import numpy as np"
   ]
  },
  {
   "cell_type": "code",
   "execution_count": 18,
   "metadata": {},
   "outputs": [
    {
     "data": {
      "text/plain": [
       "array([ 0,  5, -1], dtype=int32)"
      ]
     },
     "execution_count": 18,
     "metadata": {},
     "output_type": "execute_result"
    }
   ],
   "source": [
    "a = np.array([1,2,-5], dtype=c_int)\n",
    "b = np.array([-1,3,4], dtype=c_int)\n",
    "res = np.zeros(3, dtype=c_int)\n",
    "n = c_int(3)\n",
    "intp = POINTER(c_int)\n",
    "\n",
    "i = a.ctypes.data_as(intp)\n",
    "j = b.ctypes.data_as(intp)\n",
    "k = res.ctypes.data_as(intp)\n",
    "y.add_int_array(i, j, k, n)\n",
    "res"
   ]
  },
  {
   "cell_type": "code",
   "execution_count": 19,
   "metadata": {},
   "outputs": [],
   "source": [
    "data = b'J\\x11\\xa9\\xd8P'"
   ]
  },
  {
   "cell_type": "code",
   "execution_count": 20,
   "metadata": {},
   "outputs": [
    {
     "data": {
      "text/plain": [
       "12347981237489237489326798"
      ]
     },
     "execution_count": 20,
     "metadata": {},
     "output_type": "execute_result"
    }
   ],
   "source": [
    "int.from_bytes(b'\\xce\\x9a\\x9b\\xc7\\xfc\\xffwg\\xc96\\n', \"little\")"
   ]
  },
  {
   "cell_type": "code",
   "execution_count": 21,
   "metadata": {},
   "outputs": [],
   "source": [
    "import gmpy2"
   ]
  },
  {
   "cell_type": "code",
   "execution_count": 22,
   "metadata": {},
   "outputs": [],
   "source": [
    "value = gmpy2.mpz(123124)"
   ]
  },
  {
   "cell_type": "code",
   "execution_count": 23,
   "metadata": {},
   "outputs": [
    {
     "name": "stdout",
     "output_type": "stream",
     "text": [
      "<class 'mpz'>\n"
     ]
    }
   ],
   "source": [
    "print (type(value))"
   ]
  },
  {
   "cell_type": "code",
   "execution_count": null,
   "metadata": {},
   "outputs": [],
   "source": []
  }
 ],
 "metadata": {
  "kernelspec": {
   "display_name": "Python 3.7.5 64-bit ('tensorflow': conda)",
   "language": "python",
   "name": "python37564bittensorflowconda8c1cc858d65746e7a7e4b3d5ce52fe17"
  },
  "language_info": {
   "codemirror_mode": {
    "name": "ipython",
    "version": 3
   },
   "file_extension": ".py",
   "mimetype": "text/x-python",
   "name": "python",
   "nbconvert_exporter": "python",
   "pygments_lexer": "ipython3",
   "version": "3.7.5"
  }
 },
 "nbformat": 4,
 "nbformat_minor": 2
}
