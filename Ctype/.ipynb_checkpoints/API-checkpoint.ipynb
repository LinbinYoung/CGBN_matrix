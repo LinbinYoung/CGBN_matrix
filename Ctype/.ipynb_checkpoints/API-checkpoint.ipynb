{
 "cells": [
  {
   "cell_type": "code",
   "execution_count": 1,
   "metadata": {},
   "outputs": [],
   "source": [
    "import numpy as np\n",
    "import ctypes as C"
   ]
  },
  {
   "cell_type": "code",
   "execution_count": 2,
   "metadata": {},
   "outputs": [],
   "source": [
    "CPH_BITS = 4"
   ]
  },
  {
   "cell_type": "code",
   "execution_count": 3,
   "metadata": {},
   "outputs": [],
   "source": [
    "_cuda_lib = C.CDLL('/Users/linbinyang/Desktop/CGBN_matrix/Ctype/TEST/libtest.so')"
   ]
  },
  {
   "cell_type": "code",
   "execution_count": 4,
   "metadata": {},
   "outputs": [
    {
     "name": "stdout",
     "output_type": "stream",
     "text": [
      "<CDLL '/Users/linbinyang/Desktop/CGBN_matrix/Ctype/TEST/libtest.so', handle 7f8aeee889c0 at 0x111914090>\n"
     ]
    }
   ],
   "source": [
    "print (_cuda_lib)"
   ]
  },
  {
   "cell_type": "code",
   "execution_count": 5,
   "metadata": {},
   "outputs": [],
   "source": [
    "class Int(C.Structure):\n",
    "    num = C.create_string_buffer(CPH_BITS)"
   ]
  },
  {
   "cell_type": "code",
   "execution_count": 6,
   "metadata": {},
   "outputs": [],
   "source": [
    "class CGBN_MEM_T:\n",
    "    def __init__(self, n):\n",
    "        self._size = n\n",
    "        self._limbs = np.random.bytes(n)\n",
    "    def random_value(self, seed):\n",
    "        np.random.seed(seed)\n",
    "        self._limbs = np.random.bytes(self._size)\n",
    "        return self._limbs"
   ]
  },
  {
   "cell_type": "code",
   "execution_count": 8,
   "metadata": {},
   "outputs": [],
   "source": [
    "class Task(object):\n",
    "    def __init__(self, byte, tpi, count):\n",
    "        self._byte = byte\n",
    "        self._tpi = tpi\n",
    "        self._count = C.c_int(count)\n",
    "        self.x0 = (Int * count)()\n",
    "        self.x1 = (Int * count)()\n",
    "        self.res = (Int * count)()\n",
    "        self.num = (C.c_int32 * 1)()\n",
    "    def randomInit(self):\n",
    "        instan = CGBN_MEM_T(self._byte)\n",
    "        self.num[0] = int.from_bytes(instan.random_value(0), byteorder='little')\n",
    "        for i in range(self._count.value):\n",
    "            self.x0[i].num = instan.random_value(i)\n",
    "            self.x1[i].num = instan.random_value(i+99)"
   ]
  },
  {
   "cell_type": "code",
   "execution_count": 9,
   "metadata": {},
   "outputs": [],
   "source": [
    "instan = Task(4, 8, 20)"
   ]
  },
  {
   "cell_type": "code",
   "execution_count": 10,
   "metadata": {},
   "outputs": [],
   "source": [
    "instan.randomInit()"
   ]
  },
  {
   "cell_type": "code",
   "execution_count": 11,
   "metadata": {},
   "outputs": [
    {
     "name": "stdout",
     "output_type": "stream",
     "text": [
      "<CDLL '/Users/linbinyang/Desktop/CGBN_matrix/Ctype/TEST/libtest.so', handle 7f8aeee889c0 at 0x111914090>\n"
     ]
    }
   ],
   "source": [
    "print (_cuda_lib)"
   ]
  },
  {
   "cell_type": "code",
   "execution_count": 11,
   "metadata": {},
   "outputs": [],
   "source": [
    "_cuda_lib.interface.argtypes = [(Int * 20), (Int * 20), (Int * 20), C.c_int32]\n",
    "_cuda_lib.interface.restype = None"
   ]
  },
  {
   "cell_type": "code",
   "execution_count": 12,
   "metadata": {},
   "outputs": [],
   "source": [
    "_cuda_lib.interface(instan.x0, instan.x1, instan.res, instan._count)"
   ]
  },
  {
   "cell_type": "code",
   "execution_count": 12,
   "metadata": {},
   "outputs": [
    {
     "name": "stdout",
     "output_type": "stream",
     "text": [
      "<ctypes.c_char_Array_4 object at 0x11190bcb0>\n",
      "<ctypes.c_char_Array_4 object at 0x11190bcb0>\n",
      "<ctypes.c_char_Array_4 object at 0x11190bcb0>\n",
      "<ctypes.c_char_Array_4 object at 0x11190bcb0>\n",
      "<ctypes.c_char_Array_4 object at 0x11190bcb0>\n",
      "<ctypes.c_char_Array_4 object at 0x11190bcb0>\n",
      "<ctypes.c_char_Array_4 object at 0x11190bcb0>\n",
      "<ctypes.c_char_Array_4 object at 0x11190bcb0>\n",
      "<ctypes.c_char_Array_4 object at 0x11190bcb0>\n",
      "<ctypes.c_char_Array_4 object at 0x11190bcb0>\n",
      "<ctypes.c_char_Array_4 object at 0x11190bcb0>\n",
      "<ctypes.c_char_Array_4 object at 0x11190bcb0>\n",
      "<ctypes.c_char_Array_4 object at 0x11190bcb0>\n",
      "<ctypes.c_char_Array_4 object at 0x11190bcb0>\n",
      "<ctypes.c_char_Array_4 object at 0x11190bcb0>\n",
      "<ctypes.c_char_Array_4 object at 0x11190bcb0>\n",
      "<ctypes.c_char_Array_4 object at 0x11190bcb0>\n",
      "<ctypes.c_char_Array_4 object at 0x11190bcb0>\n",
      "<ctypes.c_char_Array_4 object at 0x11190bcb0>\n",
      "<ctypes.c_char_Array_4 object at 0x11190bcb0>\n"
     ]
    }
   ],
   "source": [
    "for i in range(20):\n",
    "    print (instan.x0[i].num)"
   ]
  }
 ],
 "metadata": {
  "file_extension": ".py",
  "kernelspec": {
   "display_name": "Python 3.7.5 64-bit ('tensorflow': conda)",
   "language": "python",
   "name": "python37564bittensorflowconda8c1cc858d65746e7a7e4b3d5ce52fe17"
  },
  "language_info": {
   "codemirror_mode": {
    "name": "ipython",
    "version": 3
   },
   "file_extension": ".py",
   "mimetype": "text/x-python",
   "name": "python",
   "nbconvert_exporter": "python",
   "pygments_lexer": "ipython3",
   "version": "3.7.5"
  },
  "mimetype": "text/x-python",
  "name": "python",
  "npconvert_exporter": "python",
  "pygments_lexer": "ipython3",
  "version": 3
 },
 "nbformat": 4,
 "nbformat_minor": 2
}
