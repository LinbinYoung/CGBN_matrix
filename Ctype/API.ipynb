{
 "cells": [
  {
   "cell_type": "code",
   "execution_count": 17,
   "metadata": {},
   "outputs": [],
   "source": [
    "import numpy as np\n",
    "import ctypes as C"
   ]
  },
  {
   "cell_type": "code",
   "execution_count": 18,
   "metadata": {},
   "outputs": [],
   "source": [
    "CPH_BITS = 4"
   ]
  },
  {
   "cell_type": "code",
   "execution_count": 19,
   "metadata": {},
   "outputs": [],
   "source": [
    "_cuda_lib = C.CDLL('/Users/linbinyang/Desktop/CGBN_matrix/Ctype/TEST/libtest.so')"
   ]
  },
  {
   "cell_type": "code",
   "execution_count": 20,
   "metadata": {},
   "outputs": [
    {
     "name": "stdout",
     "output_type": "stream",
     "text": [
      "<CDLL '/Users/linbinyang/Desktop/CGBN_matrix/Ctype/TEST/libtest.so', handle 7f8aeee889c0 at 0x11191e910>\n"
     ]
    }
   ],
   "source": [
    "print (_cuda_lib)"
   ]
  },
  {
   "cell_type": "code",
   "execution_count": 22,
   "metadata": {},
   "outputs": [],
   "source": [
    "class CGBN_MEM_T:\n",
    "    def __init__(self, n):\n",
    "        self._size = n\n",
    "        self._limbs = np.random.bytes(n)\n",
    "    def random_value(self, seed):\n",
    "        np.random.seed(seed)\n",
    "        self._limbs = np.random.bytes(self._size)\n",
    "        return self._limbs"
   ]
  },
  {
   "cell_type": "code",
   "execution_count": 61,
   "metadata": {},
   "outputs": [],
   "source": [
    "class Task(object):\n",
    "    def __init__(self, byte, tpi, count):\n",
    "        self._byte = byte\n",
    "        self._tpi = tpi\n",
    "        self._count = C.c_int(count)\n",
    "        self.x0 = []\n",
    "        self.x1 = []\n",
    "        self.res = C.create_string_buffer(count*byte)\n",
    "        self.num = (C.c_int32 * 1)()\n",
    "    def randomInit(self):\n",
    "        instan = CGBN_MEM_T(self._byte)\n",
    "        self.num[0] = int.from_bytes(instan.random_value(0), byteorder='little')\n",
    "        for i in range(self._count.value):\n",
    "            self.x0.append(int.from_bytes(instan.random_value(i), byteorder='little'))\n",
    "            self.x1.append(int.from_bytes(instan.random_value(i+99), byteorder='little'))"
   ]
  },
  {
   "cell_type": "code",
   "execution_count": 62,
   "metadata": {},
   "outputs": [],
   "source": [
    "instan = Task(4, 8, 20)"
   ]
  },
  {
   "cell_type": "code",
   "execution_count": 63,
   "metadata": {},
   "outputs": [],
   "source": [
    "instan.randomInit()"
   ]
  },
  {
   "cell_type": "code",
   "execution_count": 64,
   "metadata": {},
   "outputs": [],
   "source": [
    "test = [1,2,3,4,5,5]"
   ]
  },
  {
   "cell_type": "code",
   "execution_count": 67,
   "metadata": {},
   "outputs": [],
   "source": [
    "c_count = C.c_int32(len(instan.x0))\n",
    "array_t = C.c_int32 * len(instan.x0)\n",
    "c_array = array_t(*instan.x0)"
   ]
  },
  {
   "cell_type": "code",
   "execution_count": 12,
   "metadata": {},
   "outputs": [],
   "source": [
    "_cuda_lib.interface(instan.x0, instan.x1, instan.res, instan._count)"
   ]
  },
  {
   "cell_type": "code",
   "execution_count": 16,
   "metadata": {},
   "outputs": [
    {
     "name": "stdout",
     "output_type": "stream",
     "text": [
      "b''\n",
      "b''\n",
      "b''\n",
      "b''\n",
      "b''\n",
      "b''\n",
      "b''\n",
      "b''\n",
      "b''\n",
      "b''\n",
      "b''\n",
      "b''\n",
      "b''\n",
      "b''\n",
      "b''\n",
      "b''\n",
      "b''\n",
      "b''\n",
      "b''\n",
      "b''\n"
     ]
    }
   ],
   "source": [
    "for i in range(20):\n",
    "    print (instan.x0[i].num.value)"
   ]
  }
 ],
 "metadata": {
  "file_extension": ".py",
  "kernelspec": {
   "display_name": "Python 3.7.5 64-bit ('tensorflow': conda)",
   "language": "python",
   "name": "python37564bittensorflowconda8c1cc858d65746e7a7e4b3d5ce52fe17"
  },
  "language_info": {
   "codemirror_mode": {
    "name": "ipython",
    "version": 3
   },
   "file_extension": ".py",
   "mimetype": "text/x-python",
   "name": "python",
   "nbconvert_exporter": "python",
   "pygments_lexer": "ipython3",
   "version": "3.7.5"
  },
  "mimetype": "text/x-python",
  "name": "python",
  "npconvert_exporter": "python",
  "pygments_lexer": "ipython3",
  "version": 3
 },
 "nbformat": 4,
 "nbformat_minor": 2
}
