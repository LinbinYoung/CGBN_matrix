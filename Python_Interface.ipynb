{
 "cells": [
  {
   "cell_type": "markdown",
   "metadata": {},
   "source": [
    "# GPU算子接口demo"
   ]
  },
  {
   "cell_type": "markdown",
   "metadata": {},
   "source": [
    "### 1. Basic Library"
   ]
  },
  {
   "cell_type": "code",
   "execution_count": 3,
   "metadata": {},
   "outputs": [],
   "source": [
    "from ctypes import *\n",
    "import numpy as np\n",
    "#_cuda_lib = CDLL('./libcompute.so')"
   ]
  },
  {
   "cell_type": "markdown",
   "metadata": {},
   "source": [
    "### 2. Parameters"
   ]
  },
  {
   "cell_type": "code",
   "execution_count": 4,
   "metadata": {},
   "outputs": [],
   "source": [
    "TPI = 32\n",
    "CPH_BITS = 2048\n",
    "COUNT = 2000"
   ]
  },
  {
   "cell_type": "markdown",
   "metadata": {},
   "source": [
    "### 3.Define Big Number"
   ]
  },
  {
   "cell_type": "code",
   "execution_count": 5,
   "metadata": {},
   "outputs": [],
   "source": [
    "class CGBN_MEM_T:\n",
    "    def __init__(self, n):\n",
    "        self._size = n\n",
    "        self._limbs = np.random.bytes(n)\n",
    "    def random_value(self, seed):\n",
    "        np.random.seed(seed)\n",
    "        self._limbs = np.random.bytes(self._size)\n",
    "        return int.from_bytes(self._limbs, byteorder='little')"
   ]
  },
  {
   "cell_type": "markdown",
   "metadata": {},
   "source": [
    "### 4. Define Input"
   ]
  },
  {
   "cell_type": "code",
   "execution_count": 30,
   "metadata": {},
   "outputs": [],
   "source": [
    "class INSTANCE(object):\n",
    "    def __init__(self, bits, tpi, count, compute_type):\n",
    "        self._comtype = c_int(compute_type)\n",
    "        self._bits = c_int(bits)\n",
    "        self._byte = (bits + 7)//8\n",
    "        self._tpi = c_int(tpi)\n",
    "        self._count = c_int(count)\n",
    "        self.x0 = []\n",
    "        self.x1 = []\n",
    "        self.res = create_string_buffer(count*((bits + 7)//8))\n",
    "        self.num = (c_int32 * 1)()\n",
    "    def randomInit(self):\n",
    "        instan = CGBN_MEM_T(self._byte)\n",
    "        self.num[0] = instan.random_value(0)\n",
    "        for i in range(self._count.value):\n",
    "            self.x0.append(instan.random_value(i))\n",
    "            self.x1.append(instan.random_value(i+99))"
   ]
  },
  {
   "cell_type": "markdown",
   "metadata": {},
   "source": [
    "### 5. Prepare Command Parameters\n",
    "1. int operation: 1-add, 2-addui, 3-multi\n",
    "2. uint32_t tpi\n",
    "3. uint32_t size\n",
    "4. uint32_t *input_0\n",
    "5. uint32_t *input_1\n",
    "6. uint32_t *input_2\n",
    "7. void *output_data\n",
    "8. uint32_t count"
   ]
  },
  {
   "cell_type": "code",
   "execution_count": 27,
   "metadata": {},
   "outputs": [],
   "source": [
    "instan = INSTANCE(CPH_BITS, TPI, COUNT, 2)\n",
    "instan.randomInit()"
   ]
  },
  {
   "cell_type": "code",
   "execution_count": 28,
   "metadata": {},
   "outputs": [
    {
     "name": "stdout",
     "output_type": "stream",
     "text": [
      "2000\n"
     ]
    }
   ],
   "source": [
    "c_count = c_int32(len(instan.x0))\n",
    "print (c_count.value)"
   ]
  },
  {
   "cell_type": "code",
   "execution_count": 29,
   "metadata": {},
   "outputs": [],
   "source": [
    "array_t_0 = c_int32 * len(instan.x0)\n",
    "input_0 = array_t_0(*instan.x0)\n",
    "array_t_1 = c_int32 * len(instan.x1)\n",
    "input_1 = array_t_1(*instan.x1)\n",
    "array_t_2 = c_int32 * len(instan.num)\n",
    "input_2 = array_t_2(*instan.num)"
   ]
  },
  {
   "cell_type": "code",
   "execution_count": 31,
   "metadata": {},
   "outputs": [],
   "source": [
    "# _cuda_lib.run_gpu(instan._comtype, instan._tpi, instan._bits, input_0, input_1, input_2, instan.res, instan._count)"
   ]
  }
 ],
 "metadata": {
  "kernelspec": {
   "display_name": "Python 3.7.5 64-bit ('tensorflow': conda)",
   "language": "python",
   "name": "python37564bittensorflowconda8c1cc858d65746e7a7e4b3d5ce52fe17"
  },
  "language_info": {
   "codemirror_mode": {
    "name": "ipython",
    "version": 3
   },
   "file_extension": ".py",
   "mimetype": "text/x-python",
   "name": "python",
   "nbconvert_exporter": "python",
   "pygments_lexer": "ipython3",
   "version": "3.7.5"
  }
 },
 "nbformat": 4,
 "nbformat_minor": 2
}